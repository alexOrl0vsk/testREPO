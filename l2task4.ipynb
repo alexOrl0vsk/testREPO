{
  "nbformat": 4,
  "nbformat_minor": 0,
  "metadata": {
    "colab": {
      "provenance": [],
      "authorship_tag": "ABX9TyPpUcfvZ756q/awdLyp3BwH",
      "include_colab_link": true
    },
    "kernelspec": {
      "name": "python3",
      "display_name": "Python 3"
    },
    "language_info": {
      "name": "python"
    }
  },
  "cells": [
    {
      "cell_type": "markdown",
      "metadata": {
        "id": "view-in-github",
        "colab_type": "text"
      },
      "source": [
        "<a href=\"https://colab.research.google.com/github/alexOrl0vsk/testREPO/blob/master/l2task4.ipynb\" target=\"_parent\"><img src=\"https://colab.research.google.com/assets/colab-badge.svg\" alt=\"Open In Colab\"/></a>"
      ]
    },
    {
      "cell_type": "code",
      "execution_count": null,
      "metadata": {
        "id": "sS8FdFnzILx1"
      },
      "outputs": [],
      "source": [
        "def celebrate():\n",
        "  return\n",
        "\n",
        "if False:\n",
        "  celebrate()\n",
        ""
      ]
    }
  ]
}